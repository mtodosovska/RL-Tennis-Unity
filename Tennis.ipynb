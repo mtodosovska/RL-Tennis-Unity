{
 "cells": [
  {
   "cell_type": "markdown",
   "metadata": {},
   "source": [
    "# Collaboration and Competition\n",
    "\n",
    "---\n",
    "\n",
    "You are welcome to use this coding environment to train your agent for the project.  Follow the instructions below to get started!\n",
    "\n",
    "### 1. Start the Environment\n",
    "\n",
    "Run the next code cell to install a few packages.  This line will take a few minutes to run!"
   ]
  },
  {
   "cell_type": "code",
   "execution_count": null,
   "metadata": {},
   "outputs": [],
   "source": [
    "!pip -q install ./python"
   ]
  },
  {
   "cell_type": "markdown",
   "metadata": {},
   "source": [
    "The environment is already saved in the Workspace and can be accessed at the file path provided below. "
   ]
  },
  {
   "cell_type": "code",
   "execution_count": null,
   "metadata": {},
   "outputs": [],
   "source": [
    "from unityagents import UnityEnvironment\n",
    "import numpy as np\n",
    "\n",
    "env = UnityEnvironment(file_name=\"/data/Tennis_Linux_NoVis/Tennis\")"
   ]
  },
  {
   "cell_type": "markdown",
   "metadata": {},
   "source": [
    "Environments contain **_brains_** which are responsible for deciding the actions of their associated agents. Here we check for the first brain available, and set it as the default brain we will be controlling from Python."
   ]
  },
  {
   "cell_type": "code",
   "execution_count": null,
   "metadata": {},
   "outputs": [],
   "source": [
    "# get the default brain\n",
    "brain_name = env.brain_names[0]\n",
    "brain = env.brains[brain_name]"
   ]
  },
  {
   "cell_type": "markdown",
   "metadata": {},
   "source": [
    "### 2. Examine the State and Action Spaces\n",
    "\n",
    "Run the code cell below to print some information about the environment."
   ]
  },
  {
   "cell_type": "code",
   "execution_count": null,
   "metadata": {},
   "outputs": [],
   "source": [
    "# reset the environment\n",
    "env_info = env.reset(train_mode=True)[brain_name]\n",
    "\n",
    "# number of agents \n",
    "num_agents = len(env_info.agents)\n",
    "print('Number of agents:', num_agents)\n",
    "\n",
    "# size of each action\n",
    "action_size = brain.vector_action_space_size\n",
    "print('Size of each action:', action_size)\n",
    "\n",
    "# examine the state space \n",
    "states = env_info.vector_observations\n",
    "state_size = states.shape[1]\n",
    "print('There are {} agents. Each observes a state with length: {}'.format(states.shape[0], state_size))\n",
    "print('The state for the first agent looks like:', states[0])"
   ]
  },
  {
   "cell_type": "markdown",
   "metadata": {},
   "source": [
    "### 3. Take Random Actions in the Environment\n",
    "\n",
    "In the next code cell, you will learn how to use the Python API to control the agent and receive feedback from the environment.\n",
    "\n",
    "Note that **in this coding environment, you will not be able to watch the agents while they are training**, and you should set `train_mode=True` to restart the environment."
   ]
  },
  {
   "cell_type": "code",
   "execution_count": null,
   "metadata": {},
   "outputs": [],
   "source": [
    "for i in range(5):                                         # play game for 5 episodes\n",
    "    env_info = env.reset(train_mode=False)[brain_name]     # reset the environment    \n",
    "    states = env_info.vector_observations                  # get the current state (for each agent)\n",
    "    scores = np.zeros(num_agents)                          # initialize the score (for each agent)\n",
    "    while True:\n",
    "        actions = np.random.randn(num_agents, action_size) # select an action (for each agent)\n",
    "        actions = np.clip(actions, -1, 1)                  # all actions between -1 and 1\n",
    "        env_info = env.step(actions)[brain_name]           # send all actions to tne environment\n",
    "        next_states = env_info.vector_observations         # get next state (for each agent)\n",
    "        rewards = env_info.rewards                         # get reward (for each agent)\n",
    "        dones = env_info.local_done                        # see if episode finished\n",
    "        scores += env_info.rewards                         # update the score (for each agent)\n",
    "        states = next_states                               # roll over states to next time step\n",
    "        if np.any(dones):                                  # exit loop if episode finished\n",
    "            break\n",
    "    print('Total score (averaged over agents) this episode: {}'.format(np.mean(scores)))"
   ]
  },
  {
   "cell_type": "markdown",
   "metadata": {},
   "source": [
    "When finished, you can close the environment."
   ]
  },
  {
   "cell_type": "code",
   "execution_count": null,
   "metadata": {},
   "outputs": [],
   "source": [
    "env.close()"
   ]
  },
  {
   "cell_type": "markdown",
   "metadata": {},
   "source": [
    "### 4. It's Your Turn!\n",
    "\n",
    "Now it's your turn to train your own agent to solve the environment!  A few **important notes**:\n",
    "- When training the environment, set `train_mode=True`, so that the line for resetting the environment looks like the following:\n",
    "```python\n",
    "env_info = env.reset(train_mode=True)[brain_name]\n",
    "```\n",
    "- To structure your work, you're welcome to work directly in this Jupyter notebook, or you might like to start over with a new file!  You can see the list of files in the workspace by clicking on **_Jupyter_** in the top left corner of the notebook.\n",
    "- In this coding environment, you will not be able to watch the agents while they are training.  However, **_after training the agents_**, you can download the saved model weights to watch the agents on your own machine! "
   ]
  },
  {
   "cell_type": "code",
   "execution_count": 1,
   "metadata": {},
   "outputs": [
    {
     "name": "stdout",
     "output_type": "stream",
     "text": [
      "\u001b[31mtensorflow 1.7.1 has requirement numpy>=1.13.3, but you'll have numpy 1.12.1 which is incompatible.\u001b[0m\r\n",
      "\u001b[31mipython 6.5.0 has requirement prompt-toolkit<2.0.0,>=1.0.15, but you'll have prompt-toolkit 3.0.16 which is incompatible.\u001b[0m\r\n"
     ]
    }
   ],
   "source": [
    "!pip -q install ./python"
   ]
  },
  {
   "cell_type": "code",
   "execution_count": 3,
   "metadata": {},
   "outputs": [],
   "source": [
    "from agent import Agent\n",
    "\n",
    "import torch\n",
    "import numpy as np\n",
    "import random\n",
    "import time\n",
    "\n",
    "import matplotlib.pyplot as plt\n",
    "%matplotlib inline\n",
    "\n",
    "from unityagents import UnityEnvironment\n",
    "from collections import deque"
   ]
  },
  {
   "cell_type": "code",
   "execution_count": 3,
   "metadata": {},
   "outputs": [
    {
     "name": "stderr",
     "output_type": "stream",
     "text": [
      "INFO:unityagents:\n",
      "'Academy' started successfully!\n",
      "Unity Academy name: Academy\n",
      "        Number of Brains: 1\n",
      "        Number of External Brains : 1\n",
      "        Lesson number : 0\n",
      "        Reset Parameters :\n",
      "\t\t\n",
      "Unity brain name: TennisBrain\n",
      "        Number of Visual Observations (per agent): 0\n",
      "        Vector Observation space type: continuous\n",
      "        Vector Observation space size (per agent): 8\n",
      "        Number of stacked Vector Observation: 3\n",
      "        Vector Action space type: continuous\n",
      "        Vector Action space size (per agent): 2\n",
      "        Vector Action descriptions: , \n"
     ]
    }
   ],
   "source": [
    "env = UnityEnvironment(file_name=\"/data/Tennis_Linux_NoVis/Tennis\")"
   ]
  },
  {
   "cell_type": "code",
   "execution_count": 4,
   "metadata": {},
   "outputs": [],
   "source": [
    "# get the default brain\n",
    "brain_name = env.brain_names[0]\n",
    "brain = env.brains[brain_name]"
   ]
  },
  {
   "cell_type": "code",
   "execution_count": 5,
   "metadata": {},
   "outputs": [
    {
     "name": "stdout",
     "output_type": "stream",
     "text": [
      "Number of agents: 2\n",
      "Size of each action: 2\n",
      "There are 2 agents. Each observes a state with length: 24\n",
      "The state for the first agent looks like: [ 0.          0.          0.          0.          0.          0.          0.\n",
      "  0.          0.          0.          0.          0.          0.          0.\n",
      "  0.          0.         -6.65278625 -1.5        -0.          0.\n",
      "  6.83172083  6.         -0.          0.        ]\n"
     ]
    }
   ],
   "source": [
    "# reset the environment\n",
    "env_info = env.reset(train_mode=True)[brain_name]\n",
    "\n",
    "# number of agents \n",
    "num_agents = len(env_info.agents)\n",
    "print('Number of agents:', num_agents)\n",
    "\n",
    "# size of each action\n",
    "action_size = brain.vector_action_space_size\n",
    "print('Size of each action:', action_size)\n",
    "\n",
    "# examine the state space \n",
    "states = env_info.vector_observations\n",
    "state_size = states.shape[1]\n",
    "print('There are {} agents. Each observes a state with length: {}'.format(states.shape[0], state_size))\n",
    "print('The state for the first agent looks like:', states[0])"
   ]
  },
  {
   "cell_type": "code",
   "execution_count": 12,
   "metadata": {},
   "outputs": [],
   "source": [
    "def ddpg(num_episodes=3000, avg=100, score_threshold=0.5):\n",
    "\n",
    "    scores_deque = deque(maxlen=avg) \n",
    "    scores = []        \n",
    "    print(\"Training started...\")\n",
    "    \n",
    "    for num_episode in range(1, num_episodes+1):\n",
    "        \n",
    "        env_info = env.reset(train_mode=True)[brain_name]\n",
    "        states = env_info.vector_observations\n",
    "        \n",
    "        djokovic.reset()\n",
    "        \n",
    "        episode_scores = np.zeros(num_agents) \n",
    "\n",
    "        start_time = time.time()\n",
    "        while True:\n",
    "\n",
    "            serve = djokovic.act(states)        \n",
    "\n",
    "            env_info = env.step(serve)[brain_name]\n",
    "            next_states = env_info.vector_observations\n",
    "            rewards = env_info.rewards\n",
    "            dones = env_info.local_done\n",
    "\n",
    "            djokovic.step(states[0], serve[0], rewards[0], next_states[0], dones[0])\n",
    "            djokovic.step(states[1], serve[1], rewards[1], next_states[1], dones[1])\n",
    "\n",
    "            states = next_states\n",
    "            episode_scores += rewards\n",
    "            if np.any(dones):\n",
    "                break \n",
    "        \n",
    "        episode_avg_score = np.mean(episode_scores)\n",
    "        scores_deque.append(episode_avg_score)\n",
    "        scores.append(episode_avg_score)\n",
    "        average_score = np.mean(scores_deque)\n",
    "        ttime = time.time() - start_time\n",
    "\n",
    "        print('\\rEpisode: {}\\tAverage Score: {:.2f}\\tCurrent Score: {:.2f}\\tTime: {}'.format(num_episode, average_score, episode_score, round(ttime)), end=\"\")\n",
    "        if num_episode % 10 == 0:\n",
    "            print('\\rEpisode: {}\\tAverage Score: {:.2f}\\tCurrent Score: {:.2f}\\tTime: {}'.format(num_episode, average_score, episode_score))\n",
    "            torch.save(djokovic.actor_local.state_dict(), 'checkpoint_actor_djokovic.pth')\n",
    "            torch.save(djokovic.critic_local.state_dict(), 'checkpoint_critic_djokovic.pth')\n",
    "            torch.save(djokovic.actor_target.state_dict(), 'checkpoint_actor_target_djokovic.pth')\n",
    "            torch.save(djokovic.critic_target.state_dict(), 'checkpoint_critic_target_djokovic.pth')\n",
    "            np.save('scores.npy', scores)\n",
    "\n",
    "        if average_score >= score_threshold:\n",
    "            print('\\nEnvironment solved in {} episodes!\\tAverage Score: {:.2f}'.format(num_episode-avg, average_score))\n",
    "\n",
    "            torch.save(djokovic.actor_local.state_dict(), 'checkpoint_actor_djokovic.pth')\n",
    "            torch.save(djokovic.critic_local.state_dict(), 'checkpoint_critic_djokovic.pth')\n",
    "            torch.save(djokovic.actor_target.state_dict(), 'checkpoint_actor_target_djokovic.pth')\n",
    "            torch.save(djokovic.critic_target.state_dict(), 'checkpoint_critic_target_djokovic.pth')\n",
    "            np.save('scores.npy', scores)\n",
    "            break\n",
    "    return scores"
   ]
  },
  {
   "cell_type": "code",
   "execution_count": 13,
   "metadata": {},
   "outputs": [],
   "source": [
    "env_info = env.reset(train_mode=True)[brain_name] "
   ]
  },
  {
   "cell_type": "code",
   "execution_count": 14,
   "metadata": {},
   "outputs": [],
   "source": [
    "seed = 42"
   ]
  },
  {
   "cell_type": "code",
   "execution_count": 16,
   "metadata": {},
   "outputs": [],
   "source": [
    "djokovic = Agent(state_size=state_size, action_size=action_size, random_seed=seed)"
   ]
  },
  {
   "cell_type": "code",
   "execution_count": 17,
   "metadata": {
    "scrolled": true
   },
   "outputs": [
    {
     "name": "stdout",
     "output_type": "stream",
     "text": [
      "Training started...\n",
      "Episode: 100\tAverage Score: 0.0010\tCurrent Score: 0.0000\tTime: 0\n",
      "Episode: 200\tAverage Score: 0.0000\tCurrent Score: 0.0000\tTime: 1\n",
      "Episode: 300\tAverage Score: 0.0018\tCurrent Score: 0.0000\tTime: 0\n",
      "Episode: 400\tAverage Score: 0.0000\tCurrent Score: 0.0000\tTime: 0\n",
      "Episode: 500\tAverage Score: 0.0000\tCurrent Score: 0.0000\tTime: 0\n",
      "Episode: 600\tAverage Score: 0.0000\tCurrent Score: 0.0000\tTime: 0\n",
      "Episode: 700\tAverage Score: 0.0049\tCurrent Score: 0.0000\tTime: 0\n",
      "Episode: 800\tAverage Score: 0.0354\tCurrent Score: 0.0000\tTime: 0\n",
      "Episode: 900\tAverage Score: 0.0602\tCurrent Score: 0.1000\tTime: 1\n",
      "Episode: 1000\tAverage Score: 0.1108\tCurrent Score: 0.1000\tTime: 1\n",
      "Episode: 1100\tAverage Score: 0.1194\tCurrent Score: 0.1000\tTime: 1\n",
      "Episode: 1200\tAverage Score: 0.1648\tCurrent Score: 0.1000\tTime: 13\n",
      "Episode: 1300\tAverage Score: 0.1410\tCurrent Score: 0.1000\tTime: 1\n",
      "Episode: 1400\tAverage Score: 0.1762\tCurrent Score: 0.1000\tTime: 24\n",
      "Episode: 1500\tAverage Score: 0.1277\tCurrent Score: 0.1000\tTime: 1\n",
      "Episode: 1600\tAverage Score: 0.1420\tCurrent Score: 0.1000\tTime: 1\n",
      "Episode: 1700\tAverage Score: 0.2225\tCurrent Score: 0.1900\tTime: 21\n",
      "Episode: 1800\tAverage Score: 0.1725\tCurrent Score: 0.1000\tTime: 2\n",
      "Episode: 1900\tAverage Score: 0.2671\tCurrent Score: 0.7000\tTime: 89\n",
      "Episode: 2000\tAverage Score: 0.3098\tCurrent Score: 0.3000\tTime: 31\n",
      "Episode: 2100\tAverage Score: 0.1677\tCurrent Score: 0.2000\tTime: 2\n",
      "Episode: 2200\tAverage Score: 0.1527\tCurrent Score: 0.1000\tTime: 2\n",
      "Episode: 2300\tAverage Score: 0.2579\tCurrent Score: 2.0000\tTime: 23\n",
      "Episode: 2328\tAverage Score: 0.5094\tCurrent Score: 2.3000\tTime: 28\n",
      "Environment solved in 2268 episodes!\tAverage Score: 0.51\n"
     ]
    }
   ],
   "source": [
    "scores = ddpg()"
   ]
  },
  {
   "cell_type": "code",
   "execution_count": 4,
   "metadata": {},
   "outputs": [],
   "source": [
    "scores = list(np.load('scores.npy'))"
   ]
  },
  {
   "cell_type": "code",
   "execution_count": 6,
   "metadata": {},
   "outputs": [
    {
     "data": {
      "image/png": "[encoded data removed]",
      "text/plain": [
       "<matplotlib.figure.Figure at 0x7fc888a0b1d0>"
      ]
     },
     "metadata": {
      "needs_background": "light"
     },
     "output_type": "display_data"
    }
   ],
   "source": [
    "fig = plt.figure()\n",
    "ax = fig.add_subplot(111)\n",
    "plt.plot(np.arange(1, len(scores)+1), scores)\n",
    "plt.ylabel('Score')\n",
    "plt.xlabel('Episode #')\n",
    "plt.show()"
   ]
  },
  {
   "cell_type": "code",
   "execution_count": null,
   "metadata": {},
   "outputs": [],
   "source": []
  }
 ],
 "metadata": {
  "kernelspec": {
   "display_name": "Python 3",
   "language": "python",
   "name": "python3"
  },
  "language_info": {
   "codemirror_mode": {
    "name": "ipython",
    "version": 3
   },
   "file_extension": ".py",
   "mimetype": "text/x-python",
   "name": "python",
   "nbconvert_exporter": "python",
   "pygments_lexer": "ipython3",
   "version": "3.6.3"
  }
 },
 "nbformat": 4,
 "nbformat_minor": 2
}
